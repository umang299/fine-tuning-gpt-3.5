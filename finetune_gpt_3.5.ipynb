{
 "cells": [
  {
   "cell_type": "markdown",
   "metadata": {},
   "source": [
    "# Fine Tuning GPT-3.5-turbo"
   ]
  },
  {
   "cell_type": "code",
   "execution_count": 1,
   "metadata": {},
   "outputs": [],
   "source": [
    "import json\n",
    "import numpy as np\n",
    "import pandas as pd\n",
    "import matplotlib.pyplot as plt\n",
    "from dotenv import dotenv_values\n",
    "\n",
    "from openai import OpenAI\n",
    "\n",
    "from sklearn.model_selection import train_test_split\n",
    "from sklearn.metrics import accuracy_score, precision_score, recall_score, f1_score"
   ]
  },
  {
   "cell_type": "code",
   "execution_count": 2,
   "metadata": {},
   "outputs": [
    {
     "data": {
      "text/html": [
       "<div>\n",
       "<style scoped>\n",
       "    .dataframe tbody tr th:only-of-type {\n",
       "        vertical-align: middle;\n",
       "    }\n",
       "\n",
       "    .dataframe tbody tr th {\n",
       "        vertical-align: top;\n",
       "    }\n",
       "\n",
       "    .dataframe thead th {\n",
       "        text-align: right;\n",
       "    }\n",
       "</style>\n",
       "<table border=\"1\" class=\"dataframe\">\n",
       "  <thead>\n",
       "    <tr style=\"text-align: right;\">\n",
       "      <th></th>\n",
       "      <th>Comment</th>\n",
       "      <th>Emotion</th>\n",
       "    </tr>\n",
       "  </thead>\n",
       "  <tbody>\n",
       "    <tr>\n",
       "      <th>0</th>\n",
       "      <td>i seriously hate one subject to death but now ...</td>\n",
       "      <td>fear</td>\n",
       "    </tr>\n",
       "    <tr>\n",
       "      <th>1</th>\n",
       "      <td>im so full of life i feel appalled</td>\n",
       "      <td>anger</td>\n",
       "    </tr>\n",
       "    <tr>\n",
       "      <th>2</th>\n",
       "      <td>i sit here to write i start to dig out my feel...</td>\n",
       "      <td>fear</td>\n",
       "    </tr>\n",
       "    <tr>\n",
       "      <th>3</th>\n",
       "      <td>ive been really angry with r and i feel like a...</td>\n",
       "      <td>joy</td>\n",
       "    </tr>\n",
       "    <tr>\n",
       "      <th>4</th>\n",
       "      <td>i feel suspicious if there is no one outside l...</td>\n",
       "      <td>fear</td>\n",
       "    </tr>\n",
       "  </tbody>\n",
       "</table>\n",
       "</div>"
      ],
      "text/plain": [
       "                                             Comment Emotion\n",
       "0  i seriously hate one subject to death but now ...    fear\n",
       "1                 im so full of life i feel appalled   anger\n",
       "2  i sit here to write i start to dig out my feel...    fear\n",
       "3  ive been really angry with r and i feel like a...     joy\n",
       "4  i feel suspicious if there is no one outside l...    fear"
      ]
     },
     "execution_count": 2,
     "metadata": {},
     "output_type": "execute_result"
    }
   ],
   "source": [
    "df = pd.read_csv('data\\Emotion_classify_Data.csv')\n",
    "df.head()"
   ]
  },
  {
   "cell_type": "code",
   "execution_count": 3,
   "metadata": {},
   "outputs": [
    {
     "name": "stdout",
     "output_type": "stream",
     "text": [
      "Number of reviews : 5937\n",
      "Unique emotions : ['fear' 'anger' 'joy']\n"
     ]
    }
   ],
   "source": [
    "print(f'Number of reviews : {df.shape[0]}')\n",
    "print(f'Unique emotions : {df.Emotion.unique()}')"
   ]
  },
  {
   "cell_type": "code",
   "execution_count": 4,
   "metadata": {},
   "outputs": [
    {
     "name": "stdout",
     "output_type": "stream",
     "text": [
      "(160,) (160,) (40,) (40,)\n",
      "(128,) (128,) (32,) (32,)\n"
     ]
    }
   ],
   "source": [
    "train_x, test_x, train_y, test_y = train_test_split(df.Comment.values[:200], df.Emotion.values[:200], test_size=0.2, stratify=df['Emotion'][:200])\n",
    "print(train_x.shape, train_y.shape, test_x.shape,  test_y.shape)\n",
    "\n",
    "train_x, val_x, train_y, val_y = train_test_split(train_x, train_y, test_size=0.2, stratify=train_y)\n",
    "print(train_x.shape, train_y.shape, val_x.shape, val_y.shape)"
   ]
  },
  {
   "cell_type": "code",
   "execution_count": 5,
   "metadata": {},
   "outputs": [],
   "source": [
    "train_df = pd.DataFrame({\n",
    "    'Comments' : train_x,\n",
    "    'Emotion' : train_y\n",
    "})\n",
    "\n",
    "val_df = pd.DataFrame({\n",
    "    'Comments' : val_x,\n",
    "    'Emotion' : val_y\n",
    "})\n",
    "\n",
    "test_df = pd.DataFrame({\n",
    "    'Comments' : test_x,\n",
    "    'Emotion' : test_y\n",
    "})"
   ]
  },
  {
   "cell_type": "code",
   "execution_count": 6,
   "metadata": {},
   "outputs": [],
   "source": [
    "### utility functions\n",
    "def structure_training_data(df, x, y):\n",
    "    messages = list()\n",
    "    for i in range(0, df.shape[0]):\n",
    "        x_val = df.loc[i, x]\n",
    "        y_val = df.loc[i, y]\n",
    "\n",
    "        messages.append({\n",
    "            \"messages\" :[ \n",
    "            {\"role\" : \"user\", \"content\" : x_val},\n",
    "            {\"role\" : \"assistant\", \"content\" : y_val}]\n",
    "            })\n",
    "    \n",
    "    return messages\n",
    "\n",
    "def write_to_jsonl(data, file_path):\n",
    "    with open(file_path, 'w') as file:\n",
    "        for entry in data:\n",
    "            json.dump(entry, file)\n",
    "            file.write('\\n')\n",
    "\n",
    "def format_test(row):\n",
    "    formatted_message = [{\"role\": \"user\", \"content\": row['Comments']}]\n",
    "    return formatted_message\n",
    "\n",
    "def predict(client, test_messages, fine_tuned_model_id):\n",
    "    response = client.chat.completions.create(\n",
    "        model=fine_tuned_model_id, messages=test_messages, temperature=0, max_tokens=50\n",
    "    )\n",
    "    return response.choices[0].message.content\n",
    "\n",
    "def store_predictions(client, test_df, fine_tuned_model_id):\n",
    "    test_df['Prediction'] = None\n",
    "    for index, row in test_df.iterrows():\n",
    "        test_message = format_test(row)\n",
    "        prediction_result = predict(client, test_message, fine_tuned_model_id)\n",
    "        test_df.at[index, 'Prediction'] = prediction_result\n",
    "\n",
    "    test_df.to_csv(\"predictions.csv\")\n",
    "\n",
    "        "
   ]
  },
  {
   "cell_type": "code",
   "execution_count": 7,
   "metadata": {},
   "outputs": [],
   "source": [
    "train_messages = structure_training_data(df=train_df, x='Comments', y='Emotion')\n",
    "val_messages = structure_training_data(df=val_df, x='Comments', y='Emotion')\n",
    "test_messages = structure_training_data(df=test_df, x='Comments', y='Emotion')"
   ]
  },
  {
   "cell_type": "code",
   "execution_count": 8,
   "metadata": {},
   "outputs": [],
   "source": [
    "write_to_jsonl(data=train_messages, file_path='data\\\\train.jsonl')\n",
    "write_to_jsonl(data=val_messages, file_path='data\\\\val.jsonl')\n",
    "write_to_jsonl(data=test_messages, file_path='data\\\\test.jsonl')"
   ]
  },
  {
   "cell_type": "code",
   "execution_count": 9,
   "metadata": {},
   "outputs": [],
   "source": [
    "env = dotenv_values('.env')\n",
    "client = OpenAI(api_key=env['OPENAI_API_KEY'])\n",
    "\n",
    "training_file = client.files.create(\n",
    "    file=open('data\\\\train.jsonl', \"rb\"), purpose=\"fine-tune\"\n",
    ")\n",
    "validation_file = client.files.create(\n",
    "    file=open('data\\\\val.jsonl', \"rb\"), purpose=\"fine-tune\"\n",
    ")\n",
    "\n",
    "\n",
    "# Create Fine-Tuning Job\n",
    "suffix_name = \"emotion-detection\"\n",
    "response = client.fine_tuning.jobs.create(\n",
    "    training_file=training_file.id,\n",
    "    validation_file=validation_file.id,\n",
    "    model=\"gpt-3.5-turbo\",\n",
    "    suffix=suffix_name,\n",
    ")"
   ]
  },
  {
   "cell_type": "code",
   "execution_count": 20,
   "metadata": {},
   "outputs": [],
   "source": [
    "# while True:\n",
    "#     model_data = client.fine_tuning.jobs.list(limit=10).model_dump()['data'][0]\n",
    "#     if model_data['status'] == 'succeeded':\n",
    "#         print(f\"Hyper params: {model_data['hyperparameters']}\\nResult_files: {model_data['result_files']}\")\n",
    "#         break\n",
    "#     else:\n",
    "#         continue\n",
    "    "
   ]
  },
  {
   "cell_type": "code",
   "execution_count": 24,
   "metadata": {},
   "outputs": [
    {
     "data": {
      "text/plain": [
       "{'id': 'ftjob-X4HBAeZzlH1eQlDTD8fREpKf',\n",
       " 'created_at': 1700041376,\n",
       " 'error': None,\n",
       " 'fine_tuned_model': 'ft:gpt-3.5-turbo-0613:og-corp:emotion-detection:8L8DQ87A',\n",
       " 'finished_at': 1700047159,\n",
       " 'hyperparameters': {'n_epochs': 3,\n",
       "  'batch_size': 1,\n",
       "  'learning_rate_multiplier': 2},\n",
       " 'model': 'gpt-3.5-turbo-0613',\n",
       " 'object': 'fine_tuning.job',\n",
       " 'organization_id': 'org-KWCEUzl17wjWyyFGdoBASheI',\n",
       " 'result_files': ['file-NvIUOtzvNkw44VwUTuSlqIit'],\n",
       " 'status': 'succeeded',\n",
       " 'trained_tokens': 11556,\n",
       " 'training_file': 'file-RUAq2FNXkEtKID8qsCLj6F5z',\n",
       " 'validation_file': 'file-1phGaV5GXZF72C8iaCl7omVN'}"
      ]
     },
     "execution_count": 24,
     "metadata": {},
     "output_type": "execute_result"
    }
   ],
   "source": [
    "model_data = client.fine_tuning.jobs.list().model_dump()['data'][1]\n",
    "model_data"
   ]
  },
  {
   "cell_type": "code",
   "execution_count": 23,
   "metadata": {},
   "outputs": [],
   "source": [
    "store_predictions(client=client, test_df=val_df, fine_tuned_model_id=model_data['fine_tuned_model'])"
   ]
  },
  {
   "cell_type": "code",
   "execution_count": 44,
   "metadata": {},
   "outputs": [],
   "source": [
    "store_predictions(test_df=test_df, fine_tuned_model_id=model_data['fine_tuned_model'])"
   ]
  },
  {
   "cell_type": "code",
   "execution_count": 55,
   "metadata": {},
   "outputs": [],
   "source": [
    "val_acc = accuracy_score(y_true=val_df['Emotion'], y_pred=val_df['Prediction'])\n",
    "test_acc = accuracy_score(y_true=test_df['Emotion'], y_pred=test_df['Prediction'])\n",
    "\n",
    "val_f1 = f1_score(y_true=val_df['Emotion'], y_pred=val_df['Prediction'], average='weighted')\n",
    "test_f1 = f1_score(y_true=test_df['Emotion'], y_pred=test_df['Prediction'], average='weighted')\n",
    "\n",
    "val_recall = recall_score(y_true=val_df['Emotion'], y_pred=val_df['Prediction'], average='weighted')\n",
    "test_recall = recall_score(y_true=test_df['Emotion'], y_pred=test_df['Prediction'], average='weighted')"
   ]
  },
  {
   "cell_type": "code",
   "execution_count": 58,
   "metadata": {},
   "outputs": [
    {
     "data": {
      "text/html": [
       "<div>\n",
       "<style scoped>\n",
       "    .dataframe tbody tr th:only-of-type {\n",
       "        vertical-align: middle;\n",
       "    }\n",
       "\n",
       "    .dataframe tbody tr th {\n",
       "        vertical-align: top;\n",
       "    }\n",
       "\n",
       "    .dataframe thead th {\n",
       "        text-align: right;\n",
       "    }\n",
       "</style>\n",
       "<table border=\"1\" class=\"dataframe\">\n",
       "  <thead>\n",
       "    <tr style=\"text-align: right;\">\n",
       "      <th></th>\n",
       "      <th>Acc</th>\n",
       "      <th>F1_Score</th>\n",
       "      <th>Recall</th>\n",
       "    </tr>\n",
       "  </thead>\n",
       "  <tbody>\n",
       "    <tr>\n",
       "      <th>Validation</th>\n",
       "      <td>0.8125</td>\n",
       "      <td>0.810714</td>\n",
       "      <td>0.8125</td>\n",
       "    </tr>\n",
       "    <tr>\n",
       "      <th>Test</th>\n",
       "      <td>0.7750</td>\n",
       "      <td>0.776489</td>\n",
       "      <td>0.7750</td>\n",
       "    </tr>\n",
       "  </tbody>\n",
       "</table>\n",
       "</div>"
      ],
      "text/plain": [
       "               Acc  F1_Score  Recall\n",
       "Validation  0.8125  0.810714  0.8125\n",
       "Test        0.7750  0.776489  0.7750"
      ]
     },
     "execution_count": 58,
     "metadata": {},
     "output_type": "execute_result"
    }
   ],
   "source": [
    "pd.DataFrame({'Acc' : [val_acc, test_acc],\n",
    "              'F1_Score' : [val_f1, test_f1],\n",
    "              'Recall' : [val_recall, test_recall]},\n",
    "              index=['Validation', 'Test'])"
   ]
  },
  {
   "cell_type": "code",
   "execution_count": null,
   "metadata": {},
   "outputs": [],
   "source": []
  }
 ],
 "metadata": {
  "kernelspec": {
   "display_name": "base_env",
   "language": "python",
   "name": "python3"
  },
  "language_info": {
   "codemirror_mode": {
    "name": "ipython",
    "version": 3
   },
   "file_extension": ".py",
   "mimetype": "text/x-python",
   "name": "python",
   "nbconvert_exporter": "python",
   "pygments_lexer": "ipython3",
   "version": "3.10.10"
  }
 },
 "nbformat": 4,
 "nbformat_minor": 2
}
